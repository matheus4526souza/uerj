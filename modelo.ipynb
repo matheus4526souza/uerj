{
 "cells": [
  {
   "cell_type": "code",
   "execution_count": 1,
   "metadata": {},
   "outputs": [
    {
     "name": "stderr",
     "output_type": "stream",
     "text": [
      "/home/blue_helmet/projects/uerj/uerj/lib/python3.10/site-packages/tqdm/auto.py:22: TqdmWarning: IProgress not found. Please update jupyter and ipywidgets. See https://ipywidgets.readthedocs.io/en/stable/user_install.html\n",
      "  from .autonotebook import tqdm as notebook_tqdm\n"
     ]
    }
   ],
   "source": [
    "import numpyro\n",
    "import jax\n",
    "import jax.numpy as jnp\n",
    "from sklearn.datasets import make_regression\n",
    "from sklearn.linear_model import LinearRegression\n",
    "\n",
    "import pandas as pd\n",
    "import seaborn as sns\n",
    "\n",
    "from IPython.display import set_matplotlib_formats\n",
    "import jax.numpy as jnp\n",
    "from jax import random, vmap\n",
    "from jax.scipy.special import logsumexp\n",
    "import matplotlib.pyplot as plt\n",
    "import numpy as np\n",
    "import pandas as pd\n",
    "import seaborn as sns\n",
    "\n",
    "import numpyro\n",
    "from numpyro.diagnostics import hpdi\n",
    "import numpyro.distributions as dist\n",
    "from numpyro import handlers\n",
    "from numpyro.infer import MCMC, NUTS"
   ]
  },
  {
   "cell_type": "code",
   "execution_count": 2,
   "metadata": {},
   "outputs": [],
   "source": [
    "X, y = make_regression(n_samples=100, n_features=1, n_informative=1, n_targets=1)\n",
    "df = pd.DataFrame(X)\n",
    "df['y'] = y"
   ]
  },
  {
   "cell_type": "code",
   "execution_count": 3,
   "metadata": {},
   "outputs": [
    {
     "data": {
      "text/plain": [
       "<AxesSubplot: xlabel='0', ylabel='y'>"
      ]
     },
     "execution_count": 3,
     "metadata": {},
     "output_type": "execute_result"
    },
    {
     "data": {
      "image/png": "[encoded data removed]",
      "text/plain": [
       "<Figure size 640x480 with 1 Axes>"
      ]
     },
     "metadata": {},
     "output_type": "display_data"
    }
   ],
   "source": [
    "sns.lineplot(data=df, x=0, y='y')\n",
    "sns.lineplot(data=df, x=1, y='y')"
   ]
  },
  {
   "cell_type": "code",
   "execution_count": 4,
   "metadata": {},
   "outputs": [
    {
     "name": "stdout",
     "output_type": "stream",
     "text": [
      "[39.08182572]\n",
      "-8.881784197001252e-16\n"
     ]
    }
   ],
   "source": [
    "l = LinearRegression().fit(X, y)\n",
    "print(l.coef_)\n",
    "print(l.intercept_)"
   ]
  },
  {
   "cell_type": "code",
   "execution_count": 5,
   "metadata": {},
   "outputs": [],
   "source": [
    "def reg_linear(x, y=None):\n",
    "    a = numpyro.sample('A', numpyro.distributions.Normal(0, 5))\n",
    "    alpha = numpyro.sample('alpha', numpyro.distributions.Normal(0, 1))\n",
    "    obs = jnp.dot(x,a) + alpha\n",
    "    numpyro.sample('y_obs', numpyro.distributions.Normal(obs, 1), obs = y)"
   ]
  },
  {
   "cell_type": "code",
   "execution_count": 6,
   "metadata": {},
   "outputs": [
    {
     "name": "stderr",
     "output_type": "stream",
     "text": [
      "No GPU/TPU found, falling back to CPU. (Set TF_CPP_MIN_LOG_LEVEL=0 and rerun for more info.)\n",
      "sample: 100%|██████████| 50/50 [00:01<00:00, 47.61it/s, 1 steps of size 1.11e-01. acc. prob=0.00]"
     ]
    },
    {
     "name": "stdout",
     "output_type": "stream",
     "text": [
      "\n",
      "                mean       std    median      5.0%     95.0%     n_eff     r_hat\n",
      "         A     39.12      0.00     39.12     39.12     39.12       nan      0.96\n",
      "     alpha     -0.06      0.00     -0.06     -0.06     -0.06       nan      0.96\n",
      "\n",
      "Number of divergences: 25\n"
     ]
    },
    {
     "name": "stderr",
     "output_type": "stream",
     "text": [
      "\n"
     ]
    }
   ],
   "source": [
    "from jax import random, vmap\n",
    "\n",
    "rng_key = random.PRNGKey(0)\n",
    "rng_key, rng_key_ = random.split(rng_key)\n",
    "\n",
    "# Run NUTS.\n",
    "kernel = NUTS(reg_linear)\n",
    "num_samples = 25\n",
    "mcmc = MCMC(kernel, num_warmup=25, num_samples=num_samples)\n",
    "mcmc.run(\n",
    "    rng_key_, x=jnp.array(df[0].values),\n",
    "    y=jnp.array(df['y'].values)\n",
    ")\n",
    "mcmc.print_summary()"
   ]
  },
  {
   "cell_type": "code",
   "execution_count": 7,
   "metadata": {},
   "outputs": [],
   "source": [
    "samples_1 = mcmc.get_samples()"
   ]
  },
  {
   "cell_type": "code",
   "execution_count": 8,
   "metadata": {},
   "outputs": [
    {
     "data": {
      "text/plain": [
       "{'A': Array([39.124596, 39.124596, 39.124596, 39.124596, 39.124596, 39.124596,\n",
       "        39.124596, 39.124596, 39.124596, 39.124596, 39.124596, 39.124596,\n",
       "        39.124596, 39.124596, 39.124596, 39.124596, 39.124596, 39.124596,\n",
       "        39.124596, 39.124596, 39.124596, 39.124596, 39.124596, 39.124596,\n",
       "        39.124596], dtype=float32),\n",
       " 'alpha': Array([-0.05549655, -0.05549655, -0.05549655, -0.05549655, -0.05549655,\n",
       "        -0.05549655, -0.05549655, -0.05549655, -0.05549655, -0.05549655,\n",
       "        -0.05549655, -0.05549655, -0.05549655, -0.05549655, -0.05549655,\n",
       "        -0.05549655, -0.05549655, -0.05549655, -0.05549655, -0.05549655,\n",
       "        -0.05549655, -0.05549655, -0.05549655, -0.05549655, -0.05549655],      dtype=float32)}"
      ]
     },
     "execution_count": 8,
     "metadata": {},
     "output_type": "execute_result"
    }
   ],
   "source": [
    "samples_1"
   ]
  }
 ],
 "metadata": {
  "kernelspec": {
   "display_name": "uerj",
   "language": "python",
   "name": "python3"
  },
  "language_info": {
   "codemirror_mode": {
    "name": "ipython",
    "version": 3
   },
   "file_extension": ".py",
   "mimetype": "text/x-python",
   "name": "python",
   "nbconvert_exporter": "python",
   "pygments_lexer": "ipython3",
   "version": "3.10.9"
  },
  "orig_nbformat": 4
 },
 "nbformat": 4,
 "nbformat_minor": 2
}
